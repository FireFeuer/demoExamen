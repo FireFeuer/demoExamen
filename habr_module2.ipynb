{
 "cells": [
  {
   "cell_type": "code",
   "execution_count": 1,
   "id": "29ce7d91",
   "metadata": {},
   "outputs": [],
   "source": [
    "from sklearn.linear_model import LogisticRegression\n",
    "from sklearn.neighbors import KNeighborsClassifier\n",
    "from sklearn.naive_bayes import GaussianNB\n",
    "from sklearn.tree import DecisionTreeClassifier\n",
    "from sklearn.svm import SVC\n",
    "from sklearn.model_selection import train_test_split\n",
    "import pandas as pd\n",
    "import numpy as np\n",
    "from sklearn.pipeline import Pipeline\n",
    "from sklearn.feature_extraction.text import TfidfTransformer\n",
    "from sklearn.feature_extraction.text import CountVectorizer\n",
    "from sklearn.feature_extraction.text import HashingVectorizer\n",
    "from sklearn.naive_bayes import MultinomialNB"
   ]
  },
  {
   "cell_type": "markdown",
   "id": "bad3607f",
   "metadata": {},
   "source": [
    "# 2.1 Построение модели классификации"
   ]
  },
  {
   "cell_type": "code",
   "execution_count": 2,
   "id": "2682bc79",
   "metadata": {},
   "outputs": [
    {
     "data": {
      "text/html": [
       "<div>\n",
       "<style scoped>\n",
       "    .dataframe tbody tr th:only-of-type {\n",
       "        vertical-align: middle;\n",
       "    }\n",
       "\n",
       "    .dataframe tbody tr th {\n",
       "        vertical-align: top;\n",
       "    }\n",
       "\n",
       "    .dataframe thead th {\n",
       "        text-align: right;\n",
       "    }\n",
       "</style>\n",
       "<table border=\"1\" class=\"dataframe\">\n",
       "  <thead>\n",
       "    <tr style=\"text-align: right;\">\n",
       "      <th></th>\n",
       "      <th>name</th>\n",
       "      <th>rating</th>\n",
       "      <th>date</th>\n",
       "      <th>Vector</th>\n",
       "      <th>nominations</th>\n",
       "      <th>text_lemtize</th>\n",
       "    </tr>\n",
       "  </thead>\n",
       "  <tbody>\n",
       "    <tr>\n",
       "      <th>0</th>\n",
       "      <td>0</td>\n",
       "      <td>None</td>\n",
       "      <td>0</td>\n",
       "      <td>[-0.14686837386151166, 0.23498939817841866, 0....</td>\n",
       "      <td>0</td>\n",
       "      <td>[декабрь, состояться, церемония, награждение, ...</td>\n",
       "    </tr>\n",
       "    <tr>\n",
       "      <th>1</th>\n",
       "      <td>1</td>\n",
       "      <td>None</td>\n",
       "      <td>0</td>\n",
       "      <td>[-0.14686837386151166, 0.23498939817841866, 0....</td>\n",
       "      <td>0</td>\n",
       "      <td>[декабрь, состояться, церемония, награждение, ...</td>\n",
       "    </tr>\n",
       "    <tr>\n",
       "      <th>2</th>\n",
       "      <td>1</td>\n",
       "      <td>None</td>\n",
       "      <td>1</td>\n",
       "      <td>[-0.3698977214370539, -0.3698977214370539, -0....</td>\n",
       "      <td>0</td>\n",
       "      <td>[из, совместный, исследование, издатель, компь...</td>\n",
       "    </tr>\n",
       "    <tr>\n",
       "      <th>3</th>\n",
       "      <td>1</td>\n",
       "      <td>None</td>\n",
       "      <td>1</td>\n",
       "      <td>[-0.33776026473659926, 0.08444006618414981, -0...</td>\n",
       "      <td>0</td>\n",
       "      <td>[по, статистика, половина, год, впервые, топ, ...</td>\n",
       "    </tr>\n",
       "    <tr>\n",
       "      <th>4</th>\n",
       "      <td>1</td>\n",
       "      <td>None</td>\n",
       "      <td>2</td>\n",
       "      <td>[-0.48428058736275703, -0.12107014684068926, -...</td>\n",
       "      <td>0</td>\n",
       "      <td>[компания, провести, совместный, исследование,...</td>\n",
       "    </tr>\n",
       "  </tbody>\n",
       "</table>\n",
       "</div>"
      ],
      "text/plain": [
       "   name rating  date                                             Vector  \\\n",
       "0     0   None     0  [-0.14686837386151166, 0.23498939817841866, 0....   \n",
       "1     1   None     0  [-0.14686837386151166, 0.23498939817841866, 0....   \n",
       "2     1   None     1  [-0.3698977214370539, -0.3698977214370539, -0....   \n",
       "3     1   None     1  [-0.33776026473659926, 0.08444006618414981, -0...   \n",
       "4     1   None     2  [-0.48428058736275703, -0.12107014684068926, -...   \n",
       "\n",
       "   nominations                                       text_lemtize  \n",
       "0            0  [декабрь, состояться, церемония, награждение, ...  \n",
       "1            0  [декабрь, состояться, церемония, награждение, ...  \n",
       "2            0  [из, совместный, исследование, издатель, компь...  \n",
       "3            0  [по, статистика, половина, год, впервые, топ, ...  \n",
       "4            0  [компания, провести, совместный, исследование,...  "
      ]
     },
     "execution_count": 2,
     "metadata": {},
     "output_type": "execute_result"
    }
   ],
   "source": [
    "df = pd.read_pickle('habr.pickle')\n",
    "df.head()"
   ]
  },
  {
   "cell_type": "code",
   "execution_count": 3,
   "id": "1e996195",
   "metadata": {},
   "outputs": [],
   "source": [
    "txt_train_list = []\n",
    "txt_train = ''\n",
    "for i in df['text_lemtize']:\n",
    "    txt_train = ''\n",
    "    for j in i:\n",
    "        txt_train = txt_train + ' ' + j\n",
    "    txt_train_list.append(txt_train)\n",
    "df['text_lemtize'] = txt_train_list"
   ]
  },
  {
   "cell_type": "code",
   "execution_count": 4,
   "id": "872ba0d5",
   "metadata": {},
   "outputs": [
    {
     "data": {
      "text/html": [
       "<div>\n",
       "<style scoped>\n",
       "    .dataframe tbody tr th:only-of-type {\n",
       "        vertical-align: middle;\n",
       "    }\n",
       "\n",
       "    .dataframe tbody tr th {\n",
       "        vertical-align: top;\n",
       "    }\n",
       "\n",
       "    .dataframe thead th {\n",
       "        text-align: right;\n",
       "    }\n",
       "</style>\n",
       "<table border=\"1\" class=\"dataframe\">\n",
       "  <thead>\n",
       "    <tr style=\"text-align: right;\">\n",
       "      <th></th>\n",
       "      <th>name</th>\n",
       "      <th>date</th>\n",
       "      <th>nominations</th>\n",
       "      <th>text_lemtize</th>\n",
       "    </tr>\n",
       "  </thead>\n",
       "  <tbody>\n",
       "    <tr>\n",
       "      <th>0</th>\n",
       "      <td>0</td>\n",
       "      <td>0</td>\n",
       "      <td>0</td>\n",
       "      <td>декабрь состояться церемония награждение лаур...</td>\n",
       "    </tr>\n",
       "    <tr>\n",
       "      <th>1</th>\n",
       "      <td>1</td>\n",
       "      <td>0</td>\n",
       "      <td>0</td>\n",
       "      <td>декабрь состояться церемония награждение лаур...</td>\n",
       "    </tr>\n",
       "    <tr>\n",
       "      <th>2</th>\n",
       "      <td>1</td>\n",
       "      <td>1</td>\n",
       "      <td>0</td>\n",
       "      <td>из совместный исследование издатель компьютер...</td>\n",
       "    </tr>\n",
       "    <tr>\n",
       "      <th>3</th>\n",
       "      <td>1</td>\n",
       "      <td>1</td>\n",
       "      <td>0</td>\n",
       "      <td>по статистика половина год впервые топ самый ...</td>\n",
       "    </tr>\n",
       "    <tr>\n",
       "      <th>4</th>\n",
       "      <td>1</td>\n",
       "      <td>2</td>\n",
       "      <td>0</td>\n",
       "      <td>компания провести совместный исследование евр...</td>\n",
       "    </tr>\n",
       "  </tbody>\n",
       "</table>\n",
       "</div>"
      ],
      "text/plain": [
       "   name  date  nominations                                       text_lemtize\n",
       "0     0     0            0   декабрь состояться церемония награждение лаур...\n",
       "1     1     0            0   декабрь состояться церемония награждение лаур...\n",
       "2     1     1            0   из совместный исследование издатель компьютер...\n",
       "3     1     1            0   по статистика половина год впервые топ самый ...\n",
       "4     1     2            0   компания провести совместный исследование евр..."
      ]
     },
     "execution_count": 4,
     "metadata": {},
     "output_type": "execute_result"
    }
   ],
   "source": [
    "df = df.drop(['rating'], axis=1) \n",
    "df = df.drop('Vector', axis = 1)\n",
    "df.head()"
   ]
  },
  {
   "cell_type": "markdown",
   "id": "d29c0673",
   "metadata": {},
   "source": [
    "### Разделим выборку на обучающую и тестовую"
   ]
  },
  {
   "cell_type": "code",
   "execution_count": 5,
   "id": "e9c87559",
   "metadata": {},
   "outputs": [],
   "source": [
    "df['name'] = pd.factorize(df['name'])[0]\n",
    "X = df['text_lemtize']\n",
    "y = df['nominations']"
   ]
  },
  {
   "cell_type": "markdown",
   "id": "1b34098a",
   "metadata": {},
   "source": [
    "На тестовые значения отведём только 1/5 от всего набора. \n",
    "\n",
    "В переменную X введём все данные кроме целевой переменной, в y - только целевую переменную."
   ]
  },
  {
   "cell_type": "code",
   "execution_count": 6,
   "id": "d45b05d2",
   "metadata": {},
   "outputs": [],
   "source": [
    "X_train, X_test, y_train, y_test = train_test_split(X, y, test_size=0.20, random_state=27)"
   ]
  },
  {
   "cell_type": "markdown",
   "id": "3a0f1333",
   "metadata": {},
   "source": [
    "### Обучим нашу модель на классификации Naive Bayes"
   ]
  },
  {
   "cell_type": "markdown",
   "id": "b9f873c8",
   "metadata": {},
   "source": [
    "Наивный байесовский классификатор (Naive Bayes) — это алгоритм машинного обучения, предназначенный для многоклассовой классификации данных с независимыми признаками. За один проход вычисляется условная вероятность каждого признака"
   ]
  },
  {
   "cell_type": "code",
   "execution_count": 7,
   "id": "95631715",
   "metadata": {},
   "outputs": [],
   "source": [
    "nb = Pipeline([('vect', CountVectorizer()),\n",
    "               ('tfidf', TfidfTransformer()),\n",
    "               ('clf', MultinomialNB()),\n",
    "              ])"
   ]
  },
  {
   "cell_type": "code",
   "execution_count": 8,
   "id": "5236b6c8",
   "metadata": {},
   "outputs": [
    {
     "data": {
      "text/plain": [
       "Pipeline(steps=[('vect', CountVectorizer()), ('tfidf', TfidfTransformer()),\n",
       "                ('clf', MultinomialNB())])"
      ]
     },
     "execution_count": 8,
     "metadata": {},
     "output_type": "execute_result"
    }
   ],
   "source": [
    "nb.fit(X_train, y_train)"
   ]
  },
  {
   "cell_type": "code",
   "execution_count": 9,
   "id": "a39e78ae",
   "metadata": {},
   "outputs": [],
   "source": [
    "y_pred = nb.predict(X_test)"
   ]
  },
  {
   "cell_type": "markdown",
   "id": "d4b0d052",
   "metadata": {},
   "source": [
    "### Реализуем метрику. Посмотрим точность модели на классификации Naive Bayes"
   ]
  },
  {
   "cell_type": "markdown",
   "id": "5172865e",
   "metadata": {},
   "source": [
    "Accuracy - это метрика, показывающая отношение числа правильно угаданных классов к общему количеству примеров. Данная метрика вполне реализует и показывает нам точность нашей модели, учитывая описанный способ её оценки."
   ]
  },
  {
   "cell_type": "code",
   "execution_count": 10,
   "id": "c227ccc4",
   "metadata": {},
   "outputs": [],
   "source": [
    "from sklearn.metrics import accuracy_score\n",
    "from sklearn.metrics import classification_report"
   ]
  },
  {
   "cell_type": "code",
   "execution_count": 11,
   "id": "10138c06",
   "metadata": {},
   "outputs": [
    {
     "name": "stdout",
     "output_type": "stream",
     "text": [
      "accuracy 0.5739644970414202\n"
     ]
    }
   ],
   "source": [
    "print('accuracy %s' % accuracy_score(y_pred, y_test))"
   ]
  },
  {
   "cell_type": "markdown",
   "id": "dfc2661c",
   "metadata": {},
   "source": [
    "### Обучим модель на линейной классификации SGDClassifier"
   ]
  },
  {
   "cell_type": "markdown",
   "id": "8ce594d0",
   "metadata": {},
   "source": [
    "Этот оценщик реализует регуляризованные линейные модели со стохастическим градиентным спуском (SGD): градиент потерь оценивается для каждой выборки за раз, и модель обновляется по ходу работы с графиком убывающей прочности (он же скорость обучения)."
   ]
  },
  {
   "cell_type": "code",
   "execution_count": 12,
   "id": "fb3b520b",
   "metadata": {},
   "outputs": [],
   "source": [
    "from sklearn.linear_model import SGDClassifier"
   ]
  },
  {
   "cell_type": "code",
   "execution_count": 13,
   "id": "ea735afa",
   "metadata": {},
   "outputs": [],
   "source": [
    "sgd = Pipeline([('vect', CountVectorizer()),\n",
    "                ('tfidf', TfidfTransformer()),\n",
    "                ('clf', SGDClassifier()),\n",
    "               ])"
   ]
  },
  {
   "cell_type": "code",
   "execution_count": 14,
   "id": "bf8b497d",
   "metadata": {},
   "outputs": [
    {
     "data": {
      "text/plain": [
       "Pipeline(steps=[('vect', CountVectorizer()), ('tfidf', TfidfTransformer()),\n",
       "                ('clf', SGDClassifier())])"
      ]
     },
     "execution_count": 14,
     "metadata": {},
     "output_type": "execute_result"
    }
   ],
   "source": [
    "sgd.fit(X_train, y_train)"
   ]
  },
  {
   "cell_type": "markdown",
   "id": "cd55b3dc",
   "metadata": {},
   "source": [
    "### Посмотрим точность модели на классификации SGDClassifier"
   ]
  },
  {
   "cell_type": "code",
   "execution_count": 15,
   "id": "63e03a58",
   "metadata": {},
   "outputs": [],
   "source": [
    "y_pred = sgd.predict(X_test)"
   ]
  },
  {
   "cell_type": "code",
   "execution_count": 16,
   "id": "66c97542",
   "metadata": {},
   "outputs": [
    {
     "name": "stdout",
     "output_type": "stream",
     "text": [
      "accuracy 0.7248520710059172\n"
     ]
    }
   ],
   "source": [
    "print('accuracy %s' % accuracy_score(y_pred, y_test))"
   ]
  },
  {
   "cell_type": "markdown",
   "id": "99246399",
   "metadata": {},
   "source": [
    "### Обучим модель на классификации логистической регресии LogisticRegression"
   ]
  },
  {
   "cell_type": "markdown",
   "id": "7431913d",
   "metadata": {},
   "source": [
    "Логистическая регрессия - это процесс моделирования вероятности дискретного результата с учетом входной переменной"
   ]
  },
  {
   "cell_type": "code",
   "execution_count": 17,
   "id": "76fba853",
   "metadata": {},
   "outputs": [],
   "source": [
    "from sklearn.linear_model import LogisticRegression"
   ]
  },
  {
   "cell_type": "code",
   "execution_count": 18,
   "id": "23492a16",
   "metadata": {},
   "outputs": [],
   "source": [
    "logreg = Pipeline([('vect', CountVectorizer()),\n",
    "                ('tfidf', TfidfTransformer()),\n",
    "                ('clf', LogisticRegression(n_jobs=1, C=1000)),\n",
    "               ])"
   ]
  },
  {
   "cell_type": "code",
   "execution_count": 19,
   "id": "8578bd2d",
   "metadata": {},
   "outputs": [
    {
     "name": "stderr",
     "output_type": "stream",
     "text": [
      "C:\\Users\\Admin\\anaconda3\\lib\\site-packages\\sklearn\\linear_model\\_logistic.py:814: ConvergenceWarning: lbfgs failed to converge (status=1):\n",
      "STOP: TOTAL NO. of ITERATIONS REACHED LIMIT.\n",
      "\n",
      "Increase the number of iterations (max_iter) or scale the data as shown in:\n",
      "    https://scikit-learn.org/stable/modules/preprocessing.html\n",
      "Please also refer to the documentation for alternative solver options:\n",
      "    https://scikit-learn.org/stable/modules/linear_model.html#logistic-regression\n",
      "  n_iter_i = _check_optimize_result(\n"
     ]
    },
    {
     "data": {
      "text/plain": [
       "Pipeline(steps=[('vect', CountVectorizer()), ('tfidf', TfidfTransformer()),\n",
       "                ('clf', LogisticRegression(C=1000, n_jobs=1))])"
      ]
     },
     "execution_count": 19,
     "metadata": {},
     "output_type": "execute_result"
    }
   ],
   "source": [
    "logreg.fit(X_train, y_train)"
   ]
  },
  {
   "cell_type": "markdown",
   "id": "326b45c3",
   "metadata": {},
   "source": [
    "### Посмотрим точность модели на классификации LogisticRegression"
   ]
  },
  {
   "cell_type": "code",
   "execution_count": 20,
   "id": "0e06e9c7",
   "metadata": {},
   "outputs": [],
   "source": [
    "y_pred = logreg.predict(X_test)"
   ]
  },
  {
   "cell_type": "code",
   "execution_count": 21,
   "id": "2aa737be",
   "metadata": {},
   "outputs": [
    {
     "name": "stdout",
     "output_type": "stream",
     "text": [
      "accuracy 0.7189349112426036\n"
     ]
    }
   ],
   "source": [
    "print('accuracy %s' % accuracy_score(y_pred, y_test))"
   ]
  },
  {
   "cell_type": "markdown",
   "id": "765d5a80",
   "metadata": {},
   "source": [
    "## Выберем наилучшую модель"
   ]
  },
  {
   "cell_type": "markdown",
   "id": "249a2c92",
   "metadata": {},
   "source": [
    "Обучив и посмотрел на все модели (их точность по выбранной метрике). Мы сделаем выбор в пользу модели, которая показала наилучшие результаты в выбранной метрике. Наилучшей моделью таким образом оказалась модель, основанная на классификации при помощи SGDClassifier - метрика показала результат в 0.725, что является наивысшим результатом среди всех обученных моделей. Выберем SGDClassifier"
   ]
  },
  {
   "cell_type": "markdown",
   "id": "72ef92be",
   "metadata": {},
   "source": [
    "# 2.2 Оптимизация модели"
   ]
  },
  {
   "cell_type": "markdown",
   "id": "0aea856b",
   "metadata": {},
   "source": [
    "### Настроим нашу модель"
   ]
  },
  {
   "cell_type": "markdown",
   "id": "0a2c6724",
   "metadata": {},
   "source": [
    "### Оптимизируем выбранную модель путём настройки гиперпараметров"
   ]
  },
  {
   "cell_type": "code",
   "execution_count": 53,
   "id": "c843d048",
   "metadata": {},
   "outputs": [],
   "source": [
    "from sklearn.decomposition import PCA\n",
    "from sklearn.model_selection import GridSearchCV"
   ]
  },
  {
   "cell_type": "code",
   "execution_count": 54,
   "id": "288c41c5",
   "metadata": {},
   "outputs": [],
   "source": [
    "sgd = Pipeline([('vect', CountVectorizer()),\n",
    "                ('tfidf', TfidfTransformer()),\n",
    "                ('clf', SGDClassifier(alpha = 0.001, max_iter = 1500)),\n",
    "               ])"
   ]
  },
  {
   "cell_type": "code",
   "execution_count": 55,
   "id": "a3471d83",
   "metadata": {},
   "outputs": [
    {
     "data": {
      "text/plain": [
       "Pipeline(steps=[('vect', CountVectorizer()), ('tfidf', TfidfTransformer()),\n",
       "                ('clf', SGDClassifier(alpha=0.001, max_iter=1500))])"
      ]
     },
     "execution_count": 55,
     "metadata": {},
     "output_type": "execute_result"
    }
   ],
   "source": [
    "sgd.fit(X_train, y_train)"
   ]
  },
  {
   "cell_type": "code",
   "execution_count": 56,
   "id": "a80e18e2",
   "metadata": {},
   "outputs": [],
   "source": [
    "y_pred = sgd.predict(X_test)"
   ]
  },
  {
   "cell_type": "code",
   "execution_count": 57,
   "id": "39f8b3c3",
   "metadata": {},
   "outputs": [
    {
     "name": "stdout",
     "output_type": "stream",
     "text": [
      "accuracy 0.7455621301775148\n"
     ]
    }
   ],
   "source": [
    "print('accuracy %s' % accuracy_score(y_pred, y_test))"
   ]
  },
  {
   "cell_type": "markdown",
   "id": "487bba7a",
   "metadata": {},
   "source": [
    "Как мы можем видеть увеличение значений alpha и max_iter по сравнению со стандартными дали увеличение значений метрики. Было - 0.725, Стало - 0.746\n",
    "\n",
    "Мы улучшили нашу модель"
   ]
  },
  {
   "cell_type": "markdown",
   "id": "0cf6956e",
   "metadata": {},
   "source": [
    "### Построим кривую обучения"
   ]
  },
  {
   "cell_type": "code",
   "execution_count": 64,
   "id": "fac3acea",
   "metadata": {},
   "outputs": [],
   "source": [
    "from sklearn.model_selection import learning_curve\n",
    "from sklearn.model_selection import validation_curve\n",
    "import matplotlib.pyplot as plt"
   ]
  },
  {
   "cell_type": "code",
   "execution_count": 61,
   "id": "20266347",
   "metadata": {},
   "outputs": [
    {
     "data": {
      "text/plain": [
       "Text(0.5, 1.0, 'Learning curve')"
      ]
     },
     "execution_count": 61,
     "metadata": {},
     "output_type": "execute_result"
    },
    {
     "data": {
      "image/png": "[encoded data removed]",
      "text/plain": [
       "<Figure size 432x288 with 1 Axes>"
      ]
     },
     "metadata": {
      "needs_background": "light"
     },
     "output_type": "display_data"
    }
   ],
   "source": [
    "train_sizes, train_scores, test_scores = learning_curve(sgd, X_train, y_train, cv=5)\n",
    "train_scores_mean = np.mean(train_scores, axis=1)\n",
    "test_scores_mean = np.mean(test_scores, axis=1)\n",
    "\n",
    "plt.plot(train_sizes, train_scores_mean, label='Train')\n",
    "plt.plot(train_sizes, test_scores_mean, label='Test')\n",
    "plt.legend()\n",
    "plt.xlabel('Number of samples')\n",
    "plt.ylabel('Accuracy score')\n",
    "plt.title('Learning curve')"
   ]
  },
  {
   "cell_type": "markdown",
   "id": "0d7476de",
   "metadata": {},
   "source": [
    "Мы явно не видим недообучения модели - с достаточным количеством образцов (как мы и указали для обучения) тестовые данные показывают хоть ожидаемо и меньший результат по сравнению с тренировочными данными, но вполне высокий результат по метрике, которую мы уже посмотрели. \n",
    "\n",
    "Переобучения так же не происходит - модель на тестовых данных не показывает таких же хороших результатов, как на тренировочном наборе\n"
   ]
  },
  {
   "cell_type": "markdown",
   "id": "f26d8178",
   "metadata": {},
   "source": [
    "## Сохраним нашу модель"
   ]
  },
  {
   "cell_type": "code",
   "execution_count": 68,
   "id": "2ebeed85",
   "metadata": {},
   "outputs": [],
   "source": [
    "from joblib import dump, load"
   ]
  },
  {
   "cell_type": "code",
   "execution_count": 69,
   "id": "e0b837ec",
   "metadata": {},
   "outputs": [
    {
     "data": {
      "text/plain": [
       "['filename.joblib']"
      ]
     },
     "execution_count": 69,
     "metadata": {},
     "output_type": "execute_result"
    }
   ],
   "source": [
    "dump(sgd, 'filename.joblib') "
   ]
  },
  {
   "cell_type": "markdown",
   "id": "269ddbe3",
   "metadata": {},
   "source": [
    "Модель сохранена. Её можно будет использовать в дальнейшем"
   ]
  },
  {
   "cell_type": "markdown",
   "id": "b329c086",
   "metadata": {},
   "source": [
    "# 2.3 Подготовка отчёта"
   ]
  },
  {
   "cell_type": "markdown",
   "id": "ab448ae6",
   "metadata": {},
   "source": [
    "### 2.1 Построение модели классификации"
   ]
  },
  {
   "cell_type": "markdown",
   "id": "d196ae2e",
   "metadata": {},
   "source": [
    "Для построения лучшей модели мы взяли значимые для обучения данные. Для обучения подошёл наш подготовленный текст в виде строчного формата. Разделили выборку на тестовую и обучающую в неравной пропорции (тренировочным данным выделили больше данных). Далее приступили к обучению модели. Всего мы реализовали три модели: Naive Bayes, SGDClassifier и LogisticRegression. Все модели показали хорошие результаты по выбранной метрике (выбрали простую, базовую, но рабочую метрику accuracy), но лучший результат показала модель основанная на SGDClassifier."
   ]
  },
  {
   "cell_type": "markdown",
   "id": "f1bc7eb7",
   "metadata": {},
   "source": [
    "### 2.2 Оптимизация модели"
   ]
  },
  {
   "cell_type": "markdown",
   "id": "6dd78b22",
   "metadata": {},
   "source": [
    "Нашу выбранную модель (обученную на SGDClassifier) мы улучшили путём настройки её гиперпараметров. По метрике мы улучшили её с 0.725 до 0.746. Для дальнейших выводов построили кривую обучения и сделали выводы о недообучении или переобучении модели. Но модель показала хорошие результаты, тестовые данные показали реалистичные результаты не схожие с тренировочными. Недообучения или переобучения модели не замечено. Далее сохранили модель для возможности её дальнейшего использования в формате joblib"
   ]
  },
  {
   "cell_type": "markdown",
   "id": "c2359677",
   "metadata": {},
   "source": [
    "## Итог"
   ]
  },
  {
   "cell_type": "markdown",
   "id": "9f9da443",
   "metadata": {},
   "source": [
    "Получилось успешно применить полученные данные для разбиения данных и обучения моделей на них. Была выбрана наилучшая модель из обученных и улучшена. Итоговая модель хорошо обучена и вполне работоспособна. Итоговая модель сохранена.\n",
    "\n",
    "Полученные данные, а в частности подготовленный текст подходят для обучения. Модель способна проводить по этим данным оценку."
   ]
  },
  {
   "cell_type": "code",
   "execution_count": null,
   "id": "3ed123b4",
   "metadata": {},
   "outputs": [],
   "source": []
  }
 ],
 "metadata": {
  "kernelspec": {
   "display_name": "Python 3 (ipykernel)",
   "language": "python",
   "name": "python3"
  },
  "language_info": {
   "codemirror_mode": {
    "name": "ipython",
    "version": 3
   },
   "file_extension": ".py",
   "mimetype": "text/x-python",
   "name": "python",
   "nbconvert_exporter": "python",
   "pygments_lexer": "ipython3",
   "version": "3.9.12"
  }
 },
 "nbformat": 4,
 "nbformat_minor": 5
}
